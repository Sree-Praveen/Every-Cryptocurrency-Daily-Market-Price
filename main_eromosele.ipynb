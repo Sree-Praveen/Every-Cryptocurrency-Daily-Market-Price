{
  "cells": [
    {
      "cell_type": "markdown",
      "metadata": {
        "id": "LeOhHYFugVao"
      },
      "source": [
        "#### Team 19 Project"
      ]
    },
    {
      "cell_type": "markdown",
      "metadata": {
        "id": "l-bm1J0DgVDN"
      },
      "source": [
        "#### Data Co-relation between crypto, S&P 500, Inflation - Vish"
      ]
    },
    {
      "cell_type": "code",
      "execution_count": null,
      "metadata": {
        "id": "1e6uRNw3gO_s"
      },
      "outputs": [],
      "source": []
    },
    {
      "cell_type": "markdown",
      "metadata": {
        "id": "xBpOYGl5gd3T"
      },
      "source": [
        "#### Data loading, Data Exploring, Data cleaning, Data Wrangling - Eromosele"
      ]
    },
    {
      "cell_type": "code",
      "execution_count": null,
      "metadata": {
        "id": "0nrjK4mBij9r"
      },
      "outputs": [],
      "source": []
    },
    {
      "cell_type": "markdown",
      "metadata": {
        "id": "VGcT2Y9mikrU"
      },
      "source": [
        "#### Data Splitting, Feature Engineering - Sree"
      ]
    },
    {
      "cell_type": "code",
      "execution_count": null,
      "metadata": {
        "id": "fKieETcTipGj"
      },
      "outputs": [],
      "source": []
    },
    {
      "cell_type": "markdown",
      "metadata": {
        "id": "VP4W3nS6itlj"
      },
      "source": [
        "#### Model Training - Max"
      ]
    },
    {
      "cell_type": "code",
      "execution_count": null,
      "metadata": {
        "id": "RCDMgqSRiv5m"
      },
      "outputs": [],
      "source": []
    },
    {
      "cell_type": "markdown",
      "metadata": {
        "id": "Drc0AF5XiwrD"
      },
      "source": [
        "#### Model Optimization - Lakshaya"
      ]
    },
    {
      "cell_type": "code",
      "execution_count": null,
      "metadata": {
        "id": "GIk_N2cyi0bB"
      },
      "outputs": [],
      "source": []
    }
  ],
  "metadata": {
    "colab": {
      "provenance": []
    },
    "kernelspec": {
      "display_name": "Python 3",
      "name": "python3"
    },
    "language_info": {
      "name": "python"
    }
  },
  "nbformat": 4,
  "nbformat_minor": 0
}
